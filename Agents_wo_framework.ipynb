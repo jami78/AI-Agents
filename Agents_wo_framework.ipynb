{
  "nbformat": 4,
  "nbformat_minor": 0,
  "metadata": {
    "colab": {
      "provenance": []
    },
    "kernelspec": {
      "name": "python3",
      "display_name": "Python 3"
    },
    "language_info": {
      "name": "python"
    }
  },
  "cells": [
    {
      "cell_type": "code",
      "execution_count": 3,
      "metadata": {
        "id": "6ILLt7-zatV8"
      },
      "outputs": [],
      "source": [
        "import requests\n",
        "from groq import Groq\n"
      ]
    },
    {
      "cell_type": "code",
      "source": [
        "# Tool 1: Currency Exchange Rate\n",
        "def get_exchange_rate(base_currency, target_currency):\n",
        "    response = requests.get(f\"https://api.exchangerate-api.com/v4/latest/{base_currency}\")\n",
        "    data = response.json()\n",
        "\n",
        "    if 'rates' in data and target_currency in data['rates']:\n",
        "        return data['rates'][target_currency]\n",
        "    else:\n",
        "        return f\"Exchange rate not found for {base_currency} to {target_currency}\"\n",
        "\n",
        "# Tool 2: Closest Currency in Value\n",
        "def get_closest_currency(base_currency):\n",
        "    response = requests.get(f\"https://api.exchangerate-api.com/v4/latest/{base_currency}\")\n",
        "    data = response.json()\n",
        "\n",
        "    if 'rates' in data:\n",
        "        base_rate = data['rates'][base_currency]  # The base currency's own rate (should be 1)\n",
        "        closest_currency = None\n",
        "        closest_difference = float('inf')\n",
        "\n",
        "        # Loop through all available currencies and find the closest one in value\n",
        "        for currency, rate in data['rates'].items():\n",
        "            if currency != base_currency:  # Ignore the base currency itself\n",
        "                difference = abs(1 - rate)  # Calculate the difference between 1 (the base rate) and the rate of the currency\n",
        "                if difference < closest_difference:\n",
        "                    closest_difference = difference\n",
        "                    closest_currency = currency\n",
        "\n",
        "        return f\"The closest currency to {base_currency} is {closest_currency}.\"\n",
        "    else:\n",
        "        return \"No data available for closest currency.\"\n",
        "\n",
        "tools = [\n",
        "    {\n",
        "        \"type\": \"function\",\n",
        "        \"function\": {\n",
        "            \"name\": \"get_exchange_rate\",\n",
        "            \"description\": \"Get exchange rate between two currencies.\",\n",
        "            \"parameters\": {\n",
        "                \"type\": \"object\",\n",
        "                \"properties\": {\n",
        "                    \"base_currency\": {\"type\": \"string\", \"description\": \"The currency to convert from (e.g., USD).\"},\n",
        "                    \"target_currency\": {\"type\": \"string\", \"description\": \"The currency to convert to (e.g., EUR).\"}\n",
        "                },\n",
        "                \"required\": [\"base_currency\", \"target_currency\"],\n",
        "                \"additionalProperties\": False\n",
        "            },\n",
        "            \"strict\": True\n",
        "        }\n",
        "    },\n",
        "    {\n",
        "        \"type\": \"function\",\n",
        "        \"function\": {\n",
        "            \"name\": \"get_closest_currency\",\n",
        "            \"description\": \"Get the currency with the closest exchange rate to the base currency.\",\n",
        "            \"parameters\": {\n",
        "                \"type\": \"object\",\n",
        "                \"properties\": {\n",
        "                    \"base_currency\": {\"type\": \"string\", \"description\": \"The base currency to compare against (e.g., USD).\"}\n",
        "                },\n",
        "                \"required\": [\"base_currency\"],\n",
        "                \"additionalProperties\": False\n",
        "            },\n",
        "            \"strict\": True\n",
        "        }\n",
        "    }\n",
        "]\n",
        "\n",
        "client = Groq(api_key='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')\n",
        "\n",
        "messages = [{\"role\": \"user\", \"content\": \"What is the exchange rate from USD to EUR?\"}]\n",
        "\n",
        "response = client.chat.completions.create(\n",
        "    model=\"llama3-70b-8192\",\n",
        "    messages=messages,\n",
        "    tools=tools\n",
        ")\n"
      ],
      "metadata": {
        "id": "5Lach4x9a73i"
      },
      "execution_count": 13,
      "outputs": []
    },
    {
      "cell_type": "code",
      "source": [
        "print(response.choices[0].message)"
      ],
      "metadata": {
        "colab": {
          "base_uri": "https://localhost:8080/"
        },
        "id": "aBSnUsmubGU2",
        "outputId": "a3770f8e-c74f-4b8d-c50d-e530d8bbc9aa"
      },
      "execution_count": 14,
      "outputs": [
        {
          "output_type": "stream",
          "name": "stdout",
          "text": [
            "ChatCompletionMessage(content=None, role='assistant', function_call=None, tool_calls=[ChatCompletionMessageToolCall(id='call_f5rb', function=Function(arguments='{\"base_currency\":\"USD\",\"target_currency\":\"EUR\"}', name='get_exchange_rate'), type='function')])\n"
          ]
        }
      ]
    },
    {
      "cell_type": "code",
      "source": [
        "import rich\n",
        "rich.print(response.choices[0].message)"
      ],
      "metadata": {
        "colab": {
          "base_uri": "https://localhost:8080/",
          "height": 257
        },
        "id": "lC6jmyYdbJJ7",
        "outputId": "8f07a034-834d-4abd-badf-0b54eb0d31e8"
      },
      "execution_count": 15,
      "outputs": [
        {
          "output_type": "display_data",
          "data": {
            "text/plain": [
              "\u001b[1;35mChatCompletionMessage\u001b[0m\u001b[1m(\u001b[0m\n",
              "    \u001b[33mcontent\u001b[0m=\u001b[3;35mNone\u001b[0m,\n",
              "    \u001b[33mrole\u001b[0m=\u001b[32m'assistant'\u001b[0m,\n",
              "    \u001b[33mfunction_call\u001b[0m=\u001b[3;35mNone\u001b[0m,\n",
              "    \u001b[33mtool_calls\u001b[0m=\u001b[1m[\u001b[0m\n",
              "        \u001b[1;35mChatCompletionMessageToolCall\u001b[0m\u001b[1m(\u001b[0m\n",
              "            \u001b[33mid\u001b[0m=\u001b[32m'call_f5rb'\u001b[0m,\n",
              "            \u001b[33mfunction\u001b[0m=\u001b[1;35mFunction\u001b[0m\u001b[1m(\u001b[0m\n",
              "                \u001b[33marguments\u001b[0m=\u001b[32m'\u001b[0m\u001b[32m{\u001b[0m\u001b[32m\"base_currency\":\"USD\",\"target_currency\":\"EUR\"\u001b[0m\u001b[32m}\u001b[0m\u001b[32m'\u001b[0m,\n",
              "                \u001b[33mname\u001b[0m=\u001b[32m'get_exchange_rate'\u001b[0m\n",
              "            \u001b[1m)\u001b[0m,\n",
              "            \u001b[33mtype\u001b[0m=\u001b[32m'function'\u001b[0m\n",
              "        \u001b[1m)\u001b[0m\n",
              "    \u001b[1m]\u001b[0m\n",
              "\u001b[1m)\u001b[0m\n"
            ],
            "text/html": [
              "<pre style=\"white-space:pre;overflow-x:auto;line-height:normal;font-family:Menlo,'DejaVu Sans Mono',consolas,'Courier New',monospace\"><span style=\"color: #800080; text-decoration-color: #800080; font-weight: bold\">ChatCompletionMessage</span><span style=\"font-weight: bold\">(</span>\n",
              "    <span style=\"color: #808000; text-decoration-color: #808000\">content</span>=<span style=\"color: #800080; text-decoration-color: #800080; font-style: italic\">None</span>,\n",
              "    <span style=\"color: #808000; text-decoration-color: #808000\">role</span>=<span style=\"color: #008000; text-decoration-color: #008000\">'assistant'</span>,\n",
              "    <span style=\"color: #808000; text-decoration-color: #808000\">function_call</span>=<span style=\"color: #800080; text-decoration-color: #800080; font-style: italic\">None</span>,\n",
              "    <span style=\"color: #808000; text-decoration-color: #808000\">tool_calls</span>=<span style=\"font-weight: bold\">[</span>\n",
              "        <span style=\"color: #800080; text-decoration-color: #800080; font-weight: bold\">ChatCompletionMessageToolCall</span><span style=\"font-weight: bold\">(</span>\n",
              "            <span style=\"color: #808000; text-decoration-color: #808000\">id</span>=<span style=\"color: #008000; text-decoration-color: #008000\">'call_f5rb'</span>,\n",
              "            <span style=\"color: #808000; text-decoration-color: #808000\">function</span>=<span style=\"color: #800080; text-decoration-color: #800080; font-weight: bold\">Function</span><span style=\"font-weight: bold\">(</span>\n",
              "                <span style=\"color: #808000; text-decoration-color: #808000\">arguments</span>=<span style=\"color: #008000; text-decoration-color: #008000\">'{\"base_currency\":\"USD\",\"target_currency\":\"EUR\"}'</span>,\n",
              "                <span style=\"color: #808000; text-decoration-color: #808000\">name</span>=<span style=\"color: #008000; text-decoration-color: #008000\">'get_exchange_rate'</span>\n",
              "            <span style=\"font-weight: bold\">)</span>,\n",
              "            <span style=\"color: #808000; text-decoration-color: #808000\">type</span>=<span style=\"color: #008000; text-decoration-color: #008000\">'function'</span>\n",
              "        <span style=\"font-weight: bold\">)</span>\n",
              "    <span style=\"font-weight: bold\">]</span>\n",
              "<span style=\"font-weight: bold\">)</span>\n",
              "</pre>\n"
            ]
          },
          "metadata": {}
        }
      ]
    },
    {
      "cell_type": "code",
      "source": [
        "import json\n",
        "tool_call = response.choices[0].message.tool_calls[0]\n",
        "args = json.loads(tool_call.function.arguments)\n",
        "\n",
        "print(args)\n",
        "\n",
        "result = get_closest_currency(args[\"base_currency\"])\n",
        "result"
      ],
      "metadata": {
        "colab": {
          "base_uri": "https://localhost:8080/",
          "height": 53
        },
        "id": "NTVheo8LbMyM",
        "outputId": "34d805ec-7221-41fb-e2a7-b01b9a9b3d66"
      },
      "execution_count": 16,
      "outputs": [
        {
          "output_type": "stream",
          "name": "stdout",
          "text": [
            "{'base_currency': 'USD', 'target_currency': 'EUR'}\n"
          ]
        },
        {
          "output_type": "execute_result",
          "data": {
            "text/plain": [
              "'The closest currency to USD is BMD.'"
            ],
            "application/vnd.google.colaboratory.intrinsic+json": {
              "type": "string"
            }
          },
          "metadata": {},
          "execution_count": 16
        }
      ]
    },
    {
      "cell_type": "code",
      "source": [
        "result = get_exchange_rate(args[\"base_currency\"], args[\"target_currency\"])\n",
        "result"
      ],
      "metadata": {
        "colab": {
          "base_uri": "https://localhost:8080/"
        },
        "id": "-Exq5J1xcmNB",
        "outputId": "3dba7062-a6d6-4a7f-9716-9a757eb45996"
      },
      "execution_count": 17,
      "outputs": [
        {
          "output_type": "execute_result",
          "data": {
            "text/plain": [
              "0.972"
            ]
          },
          "metadata": {},
          "execution_count": 17
        }
      ]
    },
    {
      "cell_type": "code",
      "source": [],
      "metadata": {
        "id": "VWXcMbz4iZF8"
      },
      "execution_count": null,
      "outputs": []
    }
  ]
}
